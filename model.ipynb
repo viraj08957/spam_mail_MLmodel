{
 "cells": [
  {
   "cell_type": "markdown",
   "id": "4805f043",
   "metadata": {},
   "source": [
    "# Spam Mail Prediction Using logistic regression "
   ]
  },
  {
   "cell_type": "code",
   "execution_count": null,
   "id": "ee9e092c",
   "metadata": {},
   "outputs": [],
   "source": [
    "# importing the dependencies \n",
    "import numpy as np\n",
    "import pandas as pd\n",
    "from sklearn.model_selection import train_test_split\n",
    "from sklearn.feature_extraction.text import TfidfVectorizer \n",
    "from sklearn.linear_model import LogisticRegression\n",
    "from sklearn.metrics import accuracy_score"
   ]
  },
  {
   "cell_type": "code",
   "execution_count": null,
   "id": "67920513",
   "metadata": {},
   "outputs": [],
   "source": [
    "#data collection and preprocessing "
   ]
  },
  {
   "cell_type": "code",
   "execution_count": null,
   "id": "17415daf",
   "metadata": {},
   "outputs": [],
   "source": [
    "#1.loading the data from csv file "
   ]
  },
  {
   "cell_type": "code",
   "execution_count": null,
   "id": "911c1031",
   "metadata": {},
   "outputs": [],
   "source": [
    "raw_mail_data = pd.read_csv(\"mail_data.csv\")"
   ]
  },
  {
   "cell_type": "code",
   "execution_count": null,
   "id": "76270473",
   "metadata": {},
   "outputs": [],
   "source": [
    "raw_mail_data"
   ]
  },
  {
   "cell_type": "code",
   "execution_count": null,
   "id": "91e4d255",
   "metadata": {},
   "outputs": [],
   "source": [
    "# replace the null values with a null string  "
   ]
  },
  {
   "cell_type": "code",
   "execution_count": null,
   "id": "8d0e83e0",
   "metadata": {},
   "outputs": [],
   "source": [
    "mail_data = raw_mail_data.where((pd.notnull(raw_mail_data)),'')"
   ]
  },
  {
   "cell_type": "code",
   "execution_count": null,
   "id": "5be37120",
   "metadata": {},
   "outputs": [],
   "source": [
    "#printing the first 5 rows of the dataframe"
   ]
  },
  {
   "cell_type": "code",
   "execution_count": null,
   "id": "8d26d150",
   "metadata": {},
   "outputs": [],
   "source": [
    "mail_data.head()"
   ]
  },
  {
   "cell_type": "code",
   "execution_count": null,
   "id": "9c219d2b",
   "metadata": {},
   "outputs": [],
   "source": [
    "#checking the number of rows and column  in the dataframe "
   ]
  },
  {
   "cell_type": "code",
   "execution_count": null,
   "id": "daf1c32c",
   "metadata": {},
   "outputs": [],
   "source": [
    "mail_data.shape"
   ]
  },
  {
   "cell_type": "code",
   "execution_count": null,
   "id": "ade89f58",
   "metadata": {},
   "outputs": [],
   "source": [
    "#label encoding\n",
    "#label spam mail as 0 and ham mail as 1; "
   ]
  },
  {
   "cell_type": "code",
   "execution_count": null,
   "id": "805550f0",
   "metadata": {},
   "outputs": [],
   "source": [
    "mail_data.loc[mail_data['Category']==\"spam\",\"Category\",] =0\n",
    "mail_data.loc[mail_data['Category']==\"ham\",\"Category\",] =1"
   ]
  },
  {
   "cell_type": "code",
   "execution_count": null,
   "id": "31011755",
   "metadata": {},
   "outputs": [],
   "source": [
    "# spam = 0 \n",
    "# ham = 1"
   ]
  },
  {
   "cell_type": "code",
   "execution_count": null,
   "id": "0dd0bc1f",
   "metadata": {},
   "outputs": [],
   "source": [
    "# separating the data as text and label\n",
    "\n",
    "\n",
    "x = mail_data['Message']\n",
    "y = mail_data['Category']"
   ]
  },
  {
   "cell_type": "code",
   "execution_count": null,
   "id": "ecd3dcdd",
   "metadata": {},
   "outputs": [],
   "source": [
    "y"
   ]
  },
  {
   "cell_type": "code",
   "execution_count": null,
   "id": "cb3365d0",
   "metadata": {},
   "outputs": [],
   "source": [
    "x"
   ]
  },
  {
   "cell_type": "code",
   "execution_count": null,
   "id": "7c5eada9",
   "metadata": {},
   "outputs": [],
   "source": [
    "# splitting the data into trianing and testing data "
   ]
  },
  {
   "cell_type": "code",
   "execution_count": null,
   "id": "8c781f48",
   "metadata": {},
   "outputs": [],
   "source": [
    "xtrain,xtest,ytrain,ytest = train_test_split(x,y,test_size=0.2,random_state=3)"
   ]
  },
  {
   "cell_type": "code",
   "execution_count": null,
   "id": "d49cb6ae",
   "metadata": {},
   "outputs": [],
   "source": [
    "print(x.shape)\n",
    "print(xtrain.shape)\n",
    "print(xtest.shape)"
   ]
  },
  {
   "cell_type": "code",
   "execution_count": null,
   "id": "ba4e8417",
   "metadata": {},
   "outputs": [],
   "source": [
    "#feature extraction(using feature vectorization) that can use as \n",
    "#input to the logistic regression..\n"
   ]
  },
  {
   "cell_type": "code",
   "execution_count": null,
   "id": "28647128",
   "metadata": {},
   "outputs": [],
   "source": [
    "feature_extraction = TfidfVectorizer(min_df = 1,stop_words='english',lowercase='True')"
   ]
  },
  {
   "cell_type": "code",
   "execution_count": null,
   "id": "8b4db1ca",
   "metadata": {},
   "outputs": [],
   "source": [
    "xtrain_features = feature_extraction.fit_transform(xtrain)\n",
    "xtest_features = feature_extraction.transform(xtest)\n",
    "\n",
    "#convert ytrain and ytest values as integers\n",
    "ytrain = ytrain.astype('int')\n",
    "ytest = ytest.astype('int')"
   ]
  },
  {
   "cell_type": "code",
   "execution_count": null,
   "id": "7b0e962e",
   "metadata": {},
   "outputs": [],
   "source": [
    "print(xtrain_features)"
   ]
  },
  {
   "cell_type": "code",
   "execution_count": null,
   "id": "02eca09f",
   "metadata": {},
   "outputs": [],
   "source": [
    "print(xtrain)"
   ]
  },
  {
   "cell_type": "code",
   "execution_count": null,
   "id": "8240d954",
   "metadata": {},
   "outputs": [],
   "source": [
    "#training logistic regression model.."
   ]
  },
  {
   "cell_type": "code",
   "execution_count": null,
   "id": "3f4cbacf",
   "metadata": {},
   "outputs": [],
   "source": [
    "model = LogisticRegression()"
   ]
  },
  {
   "cell_type": "code",
   "execution_count": null,
   "id": "f5b52faa",
   "metadata": {},
   "outputs": [],
   "source": [
    "# training the logistic regression model with training data \n",
    "model.fit(xtrain_features,ytrain)"
   ]
  },
  {
   "cell_type": "code",
   "execution_count": null,
   "id": "58237d52",
   "metadata": {},
   "outputs": [],
   "source": [
    "# evaluating the trained model..."
   ]
  },
  {
   "cell_type": "code",
   "execution_count": null,
   "id": "804705f5",
   "metadata": {},
   "outputs": [],
   "source": [
    "#1. prediction on training data "
   ]
  },
  {
   "cell_type": "code",
   "execution_count": null,
   "id": "551380ef",
   "metadata": {},
   "outputs": [],
   "source": [
    "prediction_on_training_data = model.predict(xtrain_features)\n",
    "accuracy_on_training_data = accuracy_score(ytrain,prediction_on_training_data)"
   ]
  },
  {
   "cell_type": "code",
   "execution_count": null,
   "id": "e932da77",
   "metadata": {},
   "outputs": [],
   "source": [
    "print(\"accuracy on the traninig data is :\",accuracy_on_training_data)"
   ]
  },
  {
   "cell_type": "code",
   "execution_count": null,
   "id": "2215f050",
   "metadata": {},
   "outputs": [],
   "source": [
    "# prediction on the testing data..."
   ]
  },
  {
   "cell_type": "code",
   "execution_count": null,
   "id": "0ffd6b05",
   "metadata": {},
   "outputs": [],
   "source": [
    "prediction_on_testing_data = model.predict(xtest_features)\n",
    "accuray_on_testing_data = accuracy_score(ytest,prediction_on_testing_data)"
   ]
  },
  {
   "cell_type": "code",
   "execution_count": null,
   "id": "00731a19",
   "metadata": {},
   "outputs": [],
   "source": [
    "print(\"accuracy on the testing data is :\",accuray_on_testing_data)"
   ]
  },
  {
   "cell_type": "markdown",
   "id": "ebb1be34",
   "metadata": {},
   "source": [
    "\n",
    "# Building the predictive model"
   ]
  },
  {
   "cell_type": "code",
   "execution_count": 46,
   "id": "a48389df",
   "metadata": {},
   "outputs": [
    {
     "name": "stdout",
     "output_type": "stream",
     "text": [
      "[1]\n"
     ]
    }
   ],
   "source": [
    "input_mail = [\"Didn't you get hep b immunisation in nigeria.\"]\n",
    "#convert text to feature vectors\n",
    "\n",
    "input_data_features = feature_extraction.transform(input_mail)\n",
    "\n",
    "# making prediction \n",
    "\n",
    "predction = model.predict(input_data_features)\n",
    "print(predction)"
   ]
  },
  {
   "cell_type": "code",
   "execution_count": null,
   "id": "753eb1ec",
   "metadata": {},
   "outputs": [],
   "source": []
  },
  {
   "cell_type": "code",
   "execution_count": null,
   "id": "1c7be70b",
   "metadata": {},
   "outputs": [],
   "source": []
  },
  {
   "cell_type": "code",
   "execution_count": null,
   "id": "6cf42e0e",
   "metadata": {},
   "outputs": [],
   "source": []
  }
 ],
 "metadata": {
  "kernelspec": {
   "display_name": "Python 3 (ipykernel)",
   "language": "python",
   "name": "python3"
  },
  "language_info": {
   "codemirror_mode": {
    "name": "ipython",
    "version": 3
   },
   "file_extension": ".py",
   "mimetype": "text/x-python",
   "name": "python",
   "nbconvert_exporter": "python",
   "pygments_lexer": "ipython3",
   "version": "3.10.5"
  }
 },
 "nbformat": 4,
 "nbformat_minor": 5
}
